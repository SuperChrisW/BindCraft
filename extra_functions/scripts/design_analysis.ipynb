{
 "cells": [
  {
   "cell_type": "code",
   "execution_count": 1,
   "metadata": {},
   "outputs": [],
   "source": [
    "import os\n",
    "import pandas as pd\n",
    "import numpy as np\n",
    "import matplotlib.pyplot as plt\n",
    "import json"
   ]
  },
  {
   "cell_type": "code",
   "execution_count": 2,
   "metadata": {},
   "outputs": [
    {
     "name": "stdout",
     "output_type": "stream",
     "text": [
      "(5974, 232)\n",
      "Average_pLDDT: {'threshold': 0.8, 'higher': True}\n",
      "1_pLDDT: {'threshold': 0.8, 'higher': True}\n",
      "2_pLDDT: {'threshold': 0.8, 'higher': True}\n",
      "Average_pTM: {'threshold': 0.55, 'higher': True}\n",
      "1_pTM: {'threshold': 0.55, 'higher': True}\n",
      "2_pTM: {'threshold': 0.55, 'higher': True}\n",
      "Average_i_pTM: {'threshold': 0.5, 'higher': True}\n",
      "1_i_pTM: {'threshold': 0.5, 'higher': True}\n",
      "2_i_pTM: {'threshold': 0.5, 'higher': True}\n",
      "Average_i_pAE: {'threshold': 0.35, 'higher': False}\n",
      "1_i_pAE: {'threshold': 0.35, 'higher': False}\n",
      "2_i_pAE: {'threshold': 0.35, 'higher': False}\n",
      "Average_Binder_Energy_Score: {'threshold': 0, 'higher': False}\n",
      "1_Binder_Energy_Score: {'threshold': 0, 'higher': False}\n",
      "2_Binder_Energy_Score: {'threshold': 0, 'higher': False}\n",
      "Average_ShapeComplementarity: {'threshold': 0.6, 'higher': True}\n",
      "1_ShapeComplementarity: {'threshold': 0.55, 'higher': True}\n",
      "2_ShapeComplementarity: {'threshold': 0.55, 'higher': True}\n",
      "Average_dG: {'threshold': 0, 'higher': False}\n",
      "1_dG: {'threshold': 0, 'higher': False}\n",
      "2_dG: {'threshold': 0, 'higher': False}\n",
      "Average_dSASA: {'threshold': 1, 'higher': True}\n",
      "1_dSASA: {'threshold': 1, 'higher': True}\n",
      "2_dSASA: {'threshold': 1, 'higher': True}\n",
      "Average_n_InterfaceResidues: {'threshold': 7, 'higher': True}\n",
      "1_n_InterfaceResidues: {'threshold': 7, 'higher': True}\n",
      "2_n_InterfaceResidues: {'threshold': 7, 'higher': True}\n",
      "Average_n_InterfaceHbonds: {'threshold': 3, 'higher': True}\n",
      "1_n_InterfaceHbonds: {'threshold': 3, 'higher': True}\n",
      "2_n_InterfaceHbonds: {'threshold': 3, 'higher': True}\n",
      "Average_n_InterfaceUnsatHbonds: {'threshold': 4, 'higher': False}\n",
      "1_n_InterfaceUnsatHbonds: {'threshold': 4, 'higher': False}\n",
      "2_n_InterfaceUnsatHbonds: {'threshold': 4, 'higher': False}\n",
      "Average_Binder_Loop%: {'threshold': 90, 'higher': False}\n",
      "1_Binder_Loop%: {'threshold': 90, 'higher': False}\n",
      "2_Binder_Loop%: {'threshold': 90, 'higher': False}\n",
      "Average_Hotspot_RMSD: {'threshold': 6, 'higher': False}\n",
      "1_Hotspot_RMSD: {'threshold': 6, 'higher': False}\n",
      "2_Hotspot_RMSD: {'threshold': 6, 'higher': False}\n",
      "Average_Binder_pLDDT: {'threshold': 0.8, 'higher': True}\n",
      "1_Binder_pLDDT: {'threshold': 0.8, 'higher': True}\n",
      "2_Binder_pLDDT: {'threshold': 0.8, 'higher': True}\n",
      "3_Binder_pLDDT: {'threshold': 0.8, 'higher': True}\n",
      "4_Binder_pLDDT: {'threshold': 0.8, 'higher': True}\n",
      "5_Binder_pLDDT: {'threshold': 0.8, 'higher': True}\n",
      "Average_Binder_RMSD: {'threshold': 3.5, 'higher': False}\n",
      "1_Binder_RMSD: {'threshold': 3.5, 'higher': False}\n",
      "2_Binder_RMSD: {'threshold': 3.5, 'higher': False}\n",
      "3_Binder_RMSD: {'threshold': 3.5, 'higher': False}\n",
      "4_Binder_RMSD: {'threshold': 3.5, 'higher': False}\n",
      "5_Binder_RMSD: {'threshold': 3.5, 'higher': False}\n"
     ]
    }
   ],
   "source": [
    "root_dir = \"/home/lwang/models/BindCraft/BindCraft_fork/IL23_BC_PMPNN\"\n",
    "data_fp = f\"/home/lwang/models/Data_pass/IL23_BC_PMPNN-FR/traj1_final_design_stats.csv\"\n",
    "filters = \"/home/lwang/models/BindCraft/BindCraft_fork/extra_settings/no_PB_filters.json\"\n",
    "\n",
    "data_df = pd.read_csv(data_fp)\n",
    "print(data_df.shape)\n",
    "\n",
    "with open(filters, \"r\") as f:\n",
    "    filters_dict = json.load(f)\n",
    "\n",
    "for k, v in filters_dict.items():\n",
    "    if v.get(\"threshold\") is not None:\n",
    "        print(f\"{k}: {v}\")"
   ]
  },
  {
   "cell_type": "code",
   "execution_count": 3,
   "metadata": {},
   "outputs": [],
   "source": [
    "def check_filters(mpnn_data, design_labels, filters):\n",
    "    # check mpnn_data against labels\n",
    "    mpnn_dict = {label: value for label, value in zip(design_labels, mpnn_data)}\n",
    "\n",
    "    unmet_conditions = []\n",
    "\n",
    "    # check filters against thresholds\n",
    "    for label, conditions in filters.items():\n",
    "        # special conditions for interface amino acid counts\n",
    "        if label == 'Average_InterfaceAAs' or label == '1_InterfaceAAs' or label == '2_InterfaceAAs' or label == '3_InterfaceAAs' or label == '4_InterfaceAAs' or label == '5_InterfaceAAs':\n",
    "            for aa, aa_conditions in conditions.items():\n",
    "                if mpnn_dict.get(label) is None:\n",
    "                    continue\n",
    "                value = mpnn_dict.get(label).get(aa)\n",
    "                if value is None or aa_conditions[\"threshold\"] is None:\n",
    "                    continue\n",
    "                if aa_conditions[\"higher\"]:\n",
    "                    if value < aa_conditions[\"threshold\"]:\n",
    "                        unmet_conditions.append(f\"{label}_{aa}\")\n",
    "                        print(f\"Unmet condition: {label}_{aa}\")\n",
    "                else:\n",
    "                    if value > aa_conditions[\"threshold\"]:\n",
    "                        unmet_conditions.append(f\"{label}_{aa}\")\n",
    "                        print(f\"Unmet condition: {label}_{aa}\")\n",
    "        else:\n",
    "            # if no threshold, then skip\n",
    "            value = mpnn_dict.get(label)\n",
    "            if value is None or conditions[\"threshold\"] is None:\n",
    "                continue\n",
    "            if conditions[\"higher\"]:\n",
    "                if value < conditions[\"threshold\"]:\n",
    "                    unmet_conditions.append(label)\n",
    "            else:\n",
    "                if value > conditions[\"threshold\"]:\n",
    "                    unmet_conditions.append(label)\n",
    "\n",
    "    # if all filters are passed then return True\n",
    "    if len(unmet_conditions) == 0:\n",
    "        return True\n",
    "    # if some filters were unmet, print them out\n",
    "    else:\n",
    "        return unmet_conditions"
   ]
  },
  {
   "cell_type": "code",
   "execution_count": 4,
   "metadata": {},
   "outputs": [
    {
     "ename": "TypeError",
     "evalue": "'<' not supported between instances of 'str' and 'float'",
     "output_type": "error",
     "traceback": [
      "\u001b[0;31m---------------------------------------------------------------------------\u001b[0m",
      "\u001b[0;31mTypeError\u001b[0m                                 Traceback (most recent call last)",
      "Cell \u001b[0;32mIn[4], line 3\u001b[0m\n\u001b[1;32m      1\u001b[0m keep_rows \u001b[38;5;241m=\u001b[39m []\n\u001b[1;32m      2\u001b[0m \u001b[38;5;28;01mfor\u001b[39;00m i, row \u001b[38;5;129;01min\u001b[39;00m data_df\u001b[38;5;241m.\u001b[39miterrows():\n\u001b[0;32m----> 3\u001b[0m     mask \u001b[38;5;241m=\u001b[39m \u001b[43mcheck_filters\u001b[49m\u001b[43m(\u001b[49m\u001b[43mrow\u001b[49m\u001b[38;5;241;43m.\u001b[39;49m\u001b[43mto_dict\u001b[49m\u001b[43m(\u001b[49m\u001b[43m)\u001b[49m\u001b[43m,\u001b[49m\u001b[43m \u001b[49m\u001b[43mdata_df\u001b[49m\u001b[38;5;241;43m.\u001b[39;49m\u001b[43mcolumns\u001b[49m\u001b[43m,\u001b[49m\u001b[43m \u001b[49m\u001b[43mfilters_dict\u001b[49m\u001b[43m)\u001b[49m\n\u001b[1;32m      4\u001b[0m     \u001b[38;5;28;01mif\u001b[39;00m mask:\n\u001b[1;32m      5\u001b[0m         keep_rows\u001b[38;5;241m.\u001b[39mappend(row)\n",
      "Cell \u001b[0;32mIn[3], line 31\u001b[0m, in \u001b[0;36mcheck_filters\u001b[0;34m(mpnn_data, design_labels, filters)\u001b[0m\n\u001b[1;32m     29\u001b[0m     \u001b[38;5;28;01mcontinue\u001b[39;00m\n\u001b[1;32m     30\u001b[0m \u001b[38;5;28;01mif\u001b[39;00m conditions[\u001b[38;5;124m\"\u001b[39m\u001b[38;5;124mhigher\u001b[39m\u001b[38;5;124m\"\u001b[39m]:\n\u001b[0;32m---> 31\u001b[0m     \u001b[38;5;28;01mif\u001b[39;00m \u001b[43mvalue\u001b[49m\u001b[43m \u001b[49m\u001b[38;5;241;43m<\u001b[39;49m\u001b[43m \u001b[49m\u001b[43mconditions\u001b[49m\u001b[43m[\u001b[49m\u001b[38;5;124;43m\"\u001b[39;49m\u001b[38;5;124;43mthreshold\u001b[39;49m\u001b[38;5;124;43m\"\u001b[39;49m\u001b[43m]\u001b[49m:\n\u001b[1;32m     32\u001b[0m         unmet_conditions\u001b[38;5;241m.\u001b[39mappend(label)\n\u001b[1;32m     33\u001b[0m \u001b[38;5;28;01melse\u001b[39;00m:\n",
      "\u001b[0;31mTypeError\u001b[0m: '<' not supported between instances of 'str' and 'float'"
     ]
    }
   ],
   "source": [
    "keep_rows = []\n",
    "for i, row in data_df.iterrows():\n",
    "    mask = check_filters(row.to_dict(), data_df.columns, filters_dict)\n",
    "    if mask:\n",
    "        keep_rows.append(row)\n",
    "filtered_design = pd.DataFrame(keep_rows)\n",
    "print(filtered_design.shape)"
   ]
  },
  {
   "cell_type": "code",
   "execution_count": 6,
   "metadata": {},
   "outputs": [
    {
     "data": {
      "image/png": "[encoded data removed]",
      "text/plain": [
       "<Figure size 800x500 with 1 Axes>"
      ]
     },
     "metadata": {},
     "output_type": "display_data"
    }
   ],
   "source": [
    "# binder sequence length analysis\n",
    "binder_lengths = data_df[\"Length\"]\n",
    "\n",
    "# binder sequence length distribution\n",
    "plt.figure(figsize=(8, 5))\n",
    "plt.hist(binder_lengths, bins=range(30, 81, 1), color='skyblue', edgecolor='black')\n",
    "plt.title(\"IL23_BC_PMPNN length distribution\")\n",
    "plt.xlabel(\"Length\")\n",
    "plt.ylabel(\"Count\")\n",
    "plt.xlim(30, 80)\n",
    "plt.grid(axis='y', alpha=0.75)\n",
    "plt.show()"
   ]
  },
  {
   "cell_type": "code",
   "execution_count": 3,
   "metadata": {},
   "outputs": [],
   "source": [
    "import pandas as pd\n",
    "import os"
   ]
  },
  {
   "cell_type": "code",
   "execution_count": 7,
   "metadata": {},
   "outputs": [],
   "source": [
    "def select_topBB_design(file_path, top_N: int = 200, pick_strategy: str = 'top', num_pick_per_batch: int = 1) -> pd.DataFrame:\n",
    "    '''\n",
    "    Select the top-ranked designs from the MPNN scoring results.\n",
    "    Args:\n",
    "        ws: Workspace object\n",
    "        top_N: Number of top-ranked designs to select\n",
    "        pick_strategy: Strategy to pick the representative design from each group\n",
    "        num_pick_per_batch: Number of designs to pick from each group\n",
    "    Returns:\n",
    "        pd.DataFrame: DataFrame containing (top_N * num_pick_per_batch) designs\n",
    "    '''\n",
    "    BB_df = pd.read_csv(file_path)\n",
    "    BB_df['Length'] = BB_df['Sequence'].apply(len)\n",
    "    df['Traj']=df['Design'].apply(lambda x: x.split('_')[2])\n",
    "    BB_GS_L50 = BB_df[BB_df[\"Length\"] <= 50].groupby(\"Traj\")[\"MPNN_score\"].mean().reset_index()\n",
    "    BB_GS_M50 = BB_df[BB_df[\"Length\"] > 50].groupby(\"Traj\")[\"MPNN_score\"].mean().reset_index()\n",
    "    #top_designs = BB_grouped_sorted.head(top_N)\n",
    "    top_designs = pd.concat([BB_GS_L50.head(top_N//2), BB_GS_M50.head(top_N//2)])\n",
    "\n",
    "    representative_designs = BB_df[BB_df[\"Design\"].isin(top_designs[\"Traj\"])]\n",
    "    # For each group, pick the top-ranked entry as the representative design\n",
    "    if pick_strategy == 'top':\n",
    "        final_grouped_table = representative_designs.groupby(\"Traj\").apply(\n",
    "            lambda x: x.nsmallest(num_pick_per_batch, \"MPNN_score\")\n",
    "        ).reset_index(drop=True)\n",
    "    elif pick_strategy == 'random':\n",
    "        final_grouped_table = representative_designs.groupby(\"Traj\").apply(\n",
    "            lambda x: x.sample(n=num_pick_per_batch, random_state=42)\n",
    "        ).reset_index(drop=True)\n",
    "    else:\n",
    "        raise ValueError(f\"Invalid pick_strategy: {pick_strategy}\")\n",
    "    return final_grouped_table"
   ]
  },
  {
   "cell_type": "code",
   "execution_count": 4,
   "metadata": {},
   "outputs": [],
   "source": [
    "df = pd.read_csv('/home/lwang/models/BindCraft/BindCraft_fork/IL23_BC_PMPNN-FR/final_design_stats_filtered.csv')\n",
    "pick_df = select_topBB_design('/home/lwang/models/BindCraft/BindCraft_fork/IL23_BC_PMPNN-FR/final_design_stats_filtered.csv')"
   ]
  },
  {
   "cell_type": "code",
   "execution_count": 5,
   "metadata": {},
   "outputs": [
    {
     "name": "stdout",
     "output_type": "stream",
     "text": [
      "Number of designs if half entries are selected for each traj: 2793\n"
     ]
    }
   ],
   "source": [
    "# For each 'traj', select half of the entries (rounded down), then count total number of selected designs\n",
    "\n",
    "selected_indices = []\n",
    "for traj in mean_scores[:300]['traj'].unique():\n",
    "    group = df[df['traj'] == traj]\n",
    "    n_select = len(group) // 2\n",
    "    selected_indices.extend(group.index[:n_select])\n",
    "\n",
    "selected_df = df.loc[selected_indices]\n",
    "print(f\"Number of designs if half entries are selected for each traj: {len(selected_df)}\")\n"
   ]
  }
 ],
 "metadata": {
  "kernelspec": {
   "display_name": "BindCraft",
   "language": "python",
   "name": "python3"
  },
  "language_info": {
   "codemirror_mode": {
    "name": "ipython",
    "version": 3
   },
   "file_extension": ".py",
   "mimetype": "text/x-python",
   "name": "python",
   "nbconvert_exporter": "python",
   "pygments_lexer": "ipython3",
   "version": "3.10.17"
  }
 },
 "nbformat": 4,
 "nbformat_minor": 2
}
