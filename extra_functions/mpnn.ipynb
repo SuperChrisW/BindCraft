{
 "cells": [
  {
   "cell_type": "code",
   "execution_count": 1,
   "metadata": {},
   "outputs": [
    {
     "name": "stdout",
     "output_type": "stream",
     "text": [
      "(19860, 6)\n",
      "(12380, 6)\n",
      "(986,)\n",
      "(619,)\n",
      "(500,)\n",
      "(500,)\n"
     ]
    }
   ],
   "source": [
    "import pandas as pd\n",
    "import os\n",
    "import shutil\n",
    "\n",
    "base_dir = '/mnt/idd_intern/liyao.wang/BindCraft/IL23_BC_traj/IL23_BC_Backbone'\n",
    "root_dir = [\n",
    "    f\"{base_dir}/IL23_traj1\",\n",
    "    f\"{base_dir}/IL23_traj2\",\n",
    "    f\"{base_dir}/IL23_traj3\",\n",
    "    f\"{base_dir}/IL23_traj4_L30-50\",\n",
    "    f\"{base_dir}/IL23_traj5_L30-50\",\n",
    "    f\"{base_dir}/IL23_traj6_L30-50\",]\n",
    "\n",
    "dfs = []\n",
    "for dir in root_dir:\n",
    "    bb_stat_df = pd.read_csv(f'{dir}/mpnn_bb_score_stats.csv')\n",
    "    bb_stat_df['Design'] = bb_stat_df['Design'].apply(lambda x: os.path.join(dir, \"Trajectory\", f\"{x}.pdb\"))\n",
    "    dfs.append(bb_stat_df)\n",
    "\n",
    "bb_stat_df = pd.concat(dfs, ignore_index=True)\n",
    "bb_stat_df['length'] = bb_stat_df['Sequence'].apply(lambda x: len(x))\n",
    "bb_stat_L50 = bb_stat_df[bb_stat_df['length'] <= 50]\n",
    "bb_stat_M50 = bb_stat_df[bb_stat_df['length'] > 50]\n",
    "print(bb_stat_L50.shape)\n",
    "print(bb_stat_M50.shape)\n",
    "\n",
    "def sort_df(df, top_n=10):\n",
    "    avg_scores = df.groupby('Design')['MPNN_score'].mean()\n",
    "    avg_scores = avg_scores.sort_values(ascending=True)\n",
    "    print(avg_scores.shape)\n",
    "    #display(avg_scores.head(10))\n",
    "\n",
    "    return avg_scores.iloc[:top_n]\n",
    "\n",
    "top_L50_df = sort_df(bb_stat_L50, top_n=250)\n",
    "top_M50_df = sort_df(bb_stat_M50, top_n=250)\n",
    "merged_df = pd.concat([top_L50_df, top_M50_df], axis=0).sort_values(ascending=True)\n",
    "print(merged_df.shape)\n",
    "merged_df = merged_df.drop_duplicates()\n",
    "print(merged_df.shape)\n",
    "\n",
    "#merged_df.to_csv(f'/mnt/idd_intern/liyao.wang/BindCraft/IL23_BC_traj/IL23_BC_topBB_designs.csv', index=True, header=True)"
   ]
  },
  {
   "cell_type": "code",
   "execution_count": 3,
   "metadata": {},
   "outputs": [
    {
     "name": "stdout",
     "output_type": "stream",
     "text": [
      "(2256, 232)\n",
      "(2238, 232)\n",
      "(2201, 232)\n",
      "(2311, 232)\n",
      "(2291, 232)\n",
      "(2249, 232)\n",
      "(13546, 232)\n",
      "(13546, 232)\n"
     ]
    }
   ],
   "source": [
    "import pandas as pd\n",
    "import os\n",
    "import shutil\n",
    "\n",
    "base_dir = \"/mnt/idd_intern/liyao.wang/BindCraft/IL23_BC_traj/IL23_BC_PMPNN\"\n",
    "\n",
    "root_dir = [\n",
    "    f\"/mnt/idd_intern/liyao.wang/BindCraft/IL23_BC_traj/IL23_traj1\",\n",
    "    f\"/mnt/idd_intern/liyao.wang/BindCraft/IL23_BC_traj/IL23_traj2\",\n",
    "    f\"/mnt/idd_intern/liyao.wang/BindCraft/IL23_BC_traj/IL23_traj3\",\n",
    "    f\"/mnt/idd_intern/liyao.wang/BindCraft/IL23_BC_traj/IL23_traj4_L30-50\",\n",
    "    f\"/mnt/idd_intern/liyao.wang/BindCraft/IL23_BC_traj/IL23_traj5_L30-50\",\n",
    "    f\"/mnt/idd_intern/liyao.wang/BindCraft/IL23_BC_traj/IL23_traj6_L30-50\",]\n",
    "\n",
    "root_dir = [f\"{base_dir}/traj{i}\" for i in range(1, 7)]\n",
    "\n",
    "dfs = []\n",
    "for dir in root_dir:\n",
    "    bb_stat_df = pd.read_csv(f'{dir}/final_design_stats.csv')\n",
    "    print(bb_stat_df.shape)\n",
    "    dfs.append(bb_stat_df)\n",
    "\n",
    "bb_stat_df = pd.concat(dfs, ignore_index=True)\n",
    "print(bb_stat_df.shape)\n",
    "bb_stat_df = bb_stat_df.drop_duplicates(subset=['Sequence'])\n",
    "print(bb_stat_df.shape)\n",
    "bb_stat_df.to_csv(f'{base_dir}/IL23_BC_PMPNN_final_design_stats.csv', index=False, header=True)"
   ]
  },
  {
   "cell_type": "code",
   "execution_count": 2,
   "metadata": {},
   "outputs": [
    {
     "data": {
      "text/plain": [
       "Index(['/mnt/idd_intern/liyao.wang/BindCraft/IL23_BC_traj/IL23_traj1/Trajectory/IL23_l73_s850935.pdb',\n",
       "       '/mnt/idd_intern/liyao.wang/BindCraft/IL23_BC_traj/IL23_traj3/Trajectory/IL23_l78_s697539.pdb',\n",
       "       '/mnt/idd_intern/liyao.wang/BindCraft/IL23_BC_traj/IL23_traj3/Trajectory/IL23_l69_s161290.pdb',\n",
       "       '/mnt/idd_intern/liyao.wang/BindCraft/IL23_BC_traj/IL23_traj3/Trajectory/IL23_l52_s420419.pdb',\n",
       "       '/mnt/idd_intern/liyao.wang/BindCraft/IL23_BC_traj/IL23_traj1/Trajectory/IL23_l53_s311271.pdb',\n",
       "       '/mnt/idd_intern/liyao.wang/BindCraft/IL23_BC_traj/IL23_traj1/Trajectory/IL23_l70_s682141.pdb',\n",
       "       '/mnt/idd_intern/liyao.wang/BindCraft/IL23_BC_traj/IL23_traj3/Trajectory/IL23_l59_s698028.pdb',\n",
       "       '/mnt/idd_intern/liyao.wang/BindCraft/IL23_BC_traj/IL23_traj6_L30-50/Trajectory/IL23_l31_s721180.pdb',\n",
       "       '/mnt/idd_intern/liyao.wang/BindCraft/IL23_BC_traj/IL23_traj2/Trajectory/IL23_l38_s84044.pdb',\n",
       "       '/mnt/idd_intern/liyao.wang/BindCraft/IL23_BC_traj/IL23_traj3/Trajectory/IL23_l67_s460338.pdb',\n",
       "       ...\n",
       "       '/mnt/idd_intern/liyao.wang/BindCraft/IL23_BC_traj/IL23_traj5_L30-50/Trajectory/IL23_l46_s187049.pdb',\n",
       "       '/mnt/idd_intern/liyao.wang/BindCraft/IL23_BC_traj/IL23_traj1/Trajectory/IL23_l46_s453071.pdb',\n",
       "       '/mnt/idd_intern/liyao.wang/BindCraft/IL23_BC_traj/IL23_traj6_L30-50/Trajectory/IL23_l33_s159647.pdb',\n",
       "       '/mnt/idd_intern/liyao.wang/BindCraft/IL23_BC_traj/IL23_traj5_L30-50/Trajectory/IL23_l32_s665446.pdb',\n",
       "       '/mnt/idd_intern/liyao.wang/BindCraft/IL23_BC_traj/IL23_traj5_L30-50/Trajectory/IL23_l43_s284972.pdb',\n",
       "       '/mnt/idd_intern/liyao.wang/BindCraft/IL23_BC_traj/IL23_traj4_L30-50/Trajectory/IL23_l49_s440243.pdb',\n",
       "       '/mnt/idd_intern/liyao.wang/BindCraft/IL23_BC_traj/IL23_traj5_L30-50/Trajectory/IL23_l45_s221350.pdb',\n",
       "       '/mnt/idd_intern/liyao.wang/BindCraft/IL23_BC_traj/IL23_traj4_L30-50/Trajectory/IL23_l41_s309551.pdb',\n",
       "       '/mnt/idd_intern/liyao.wang/BindCraft/IL23_BC_traj/IL23_traj5_L30-50/Trajectory/IL23_l49_s940482.pdb',\n",
       "       '/mnt/idd_intern/liyao.wang/BindCraft/IL23_BC_traj/IL23_traj6_L30-50/Trajectory/IL23_l39_s820086.pdb'],\n",
       "      dtype='object', name='Design', length=300)"
      ]
     },
     "execution_count": 2,
     "metadata": {},
     "output_type": "execute_result"
    }
   ],
   "source": [
    "merged_df.index"
   ]
  },
  {
   "cell_type": "code",
   "execution_count": 3,
   "metadata": {},
   "outputs": [],
   "source": [
    "\n",
    "dst_dir = '/mnt/idd_intern/liyao.wang/BindCraft/IL23_BC_traj/IL23_BC_PMPNN-FR/traj2/Trajectory'\n",
    "os.makedirs(dst_dir, exist_ok=True)\n",
    "for file in merged_df.index[250:]:\n",
    "    fname = os.path.basename(file)\n",
    "    try:\n",
    "        shutil.copy(file, f'{dst_dir}/{fname}')\n",
    "    except FileNotFoundError:\n",
    "        print(f\"File not found: {file}\")\n",
    "    except Exception as e:\n",
    "        print(f\"An error occurred while copying {file}: {e}\")"
   ]
  },
  {
   "cell_type": "code",
   "execution_count": 2,
   "metadata": {},
   "outputs": [],
   "source": [
    "import os\n",
    "import sys\n",
    "sys.path.append('/mnt/idd_intern/liyao.wang/BindCraft/functions')\n",
    "import pandas as pd\n",
    "import numpy as np\n",
    "\n",
    "from biopython_utils import *"
   ]
  },
  {
   "cell_type": "code",
   "execution_count": 5,
   "metadata": {},
   "outputs": [],
   "source": [
    "import yaml\n",
    "binder_chain = \"B\"\n",
    "target_chain = \"A\"\n",
    "\n",
    "class FlowStyleList(list):\n",
    "    pass\n",
    "def flow_style_list_representer(dumper, data):\n",
    "    return dumper.represent_sequence('tag:yaml.org,2002:seq', data, flow_style=True)\n",
    "yaml.add_representer(FlowStyleList, flow_style_list_representer)\n",
    "\n",
    "def write_mpnn_config(yaml_dir, pdb_fpath, binder_chain, fix_pos: list, num_seq_per_target=50, batch_size=4):\n",
    "    config = {\n",
    "        \"gpus\": \"Multiple\",\n",
    "        \"fixed_positions\": [FlowStyleList(fix_pos)],\n",
    "        \"chains_to_design\": binder_chain,\n",
    "        \"omit_aas\": ['C'],  # Use a list for omit_aas\n",
    "        # model params\n",
    "        \"homoligomer\": 1,\n",
    "        \"num_seq_per_target\": num_seq_per_target,\n",
    "        \"sampling_temp\": 0.1,\n",
    "        \"initial_seed\": 0,\n",
    "        \"batch_size\": batch_size,\n",
    "        \"mode\": \"design\"\n",
    "    }\n",
    "    fname = os.path.basename(pdb_fpath)\n",
    "    yaml_path = os.path.join(yaml_dir, f\"{fname.replace('.pdb', '.yaml')}\")\n",
    "    with open(yaml_path, \"w\") as f:\n",
    "        yaml.dump(config, f, default_flow_style=False)\n",
    "    #print(f\"YAML file written to: {yaml_path}\")"
   ]
  },
  {
   "cell_type": "code",
   "execution_count": 4,
   "metadata": {},
   "outputs": [
    {
     "name": "stdout",
     "output_type": "stream",
     "text": [
      "Total PDB files found: 1605\n"
     ]
    }
   ],
   "source": [
    "import glob\n",
    "\n",
    "pdb_fpaths = []\n",
    "for dir in root_dir:\n",
    "    pdb_fpaths += glob.glob(os.path.join(dir, \"Trajectory\", \"*.pdb\"))\n",
    "print(f\"Total PDB files found: {len(pdb_fpaths)}\")"
   ]
  },
  {
   "cell_type": "code",
   "execution_count": 6,
   "metadata": {},
   "outputs": [
    {
     "name": "stdout",
     "output_type": "stream",
     "text": [
      "Total files copied: 1570\n"
     ]
    }
   ],
   "source": [
    "import shutil\n",
    "import os\n",
    "\n",
    "dst_dir = \"/mnt/idd_intern/liyao.wang/BindCraft/IL23_BC_traj/IL23_BC_XMPNN\"\n",
    "os.makedirs(dst_dir, exist_ok=True)\n",
    "\n",
    "len_filter = 10\n",
    "count = 0\n",
    "for file in pdb_fpaths:\n",
    "    fname = os.path.basename(file)\n",
    "    pdb_fpath = file\n",
    "    dst_fpath = os.path.join(dst_dir, fname)\n",
    "\n",
    "    traj_interface_residues = []\n",
    "    interface_residues_set = hotspot_residues(pdb_fpath, binder_chain=binder_chain)\n",
    "    if len(interface_residues_set.keys()) > len_filter:\n",
    "        count += 1\n",
    "        shutil.copy(pdb_fpath, dst_fpath)\n",
    "        write_mpnn_config(dst_dir, pdb_fpath, binder_chain, fix_pos=list(interface_residues_set.keys()), num_seq_per_target=50, batch_size=4)\n",
    "print(f\"Total files copied: {count}\")"
   ]
  },
  {
   "cell_type": "code",
   "execution_count": 29,
   "metadata": {},
   "outputs": [
    {
     "data": {
      "image/png": "[encoded data removed]",
      "text/plain": [
       "<Figure size 640x480 with 1 Axes>"
      ]
     },
     "metadata": {},
     "output_type": "display_data"
    }
   ],
   "source": [
    "plt.hist(list(RF_design_data.values()), bins=range(0, 50, 1))\n",
    "plt.show()"
   ]
  }
 ],
 "metadata": {
  "kernelspec": {
   "display_name": "BindCraft",
   "language": "python",
   "name": "python3"
  },
  "language_info": {
   "codemirror_mode": {
    "name": "ipython",
    "version": 3
   },
   "file_extension": ".py",
   "mimetype": "text/x-python",
   "name": "python",
   "nbconvert_exporter": "python",
   "pygments_lexer": "ipython3",
   "version": "3.10.13"
  }
 },
 "nbformat": 4,
 "nbformat_minor": 2
}
